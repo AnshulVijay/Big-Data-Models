{
 "cells": [
  {
   "cell_type": "markdown",
   "metadata": {},
   "source": [
    "# LINEAR REGRESSION"
   ]
  },
  {
   "cell_type": "markdown",
   "metadata": {},
   "source": [
    "### Importing required libraries"
   ]
  },
  {
   "cell_type": "code",
   "execution_count": 1,
   "metadata": {},
   "outputs": [
    {
     "name": "stdout",
     "output_type": "stream",
     "text": [
      "Populating the interactive namespace from numpy and matplotlib\n"
     ]
    }
   ],
   "source": [
    "%pylab inline\n",
    "%matplotlib inline\n",
    "from matplotlib import pyplot as plt\n",
    "from pyspark.mllib.regression import LabeledPoint\n",
    "import numpy as np\n",
    "from pyspark import *\n",
    "from pyspark.mllib.regression import LabeledPoint, LinearRegressionWithSGD\n",
    "from pyspark.ml.regression import LinearRegression"
   ]
  },
  {
   "cell_type": "code",
   "execution_count": 2,
   "metadata": {},
   "outputs": [],
   "source": [
    "sc = SparkContext()"
   ]
  },
  {
   "cell_type": "markdown",
   "metadata": {},
   "source": [
    "### Select which dataset is needed, to do so remove # from there"
   ]
  },
  {
   "cell_type": "code",
   "execution_count": 3,
   "metadata": {},
   "outputs": [
    {
     "name": "stdout",
     "output_type": "stream",
     "text": [
      "First record:  ['1', '2011-01-01', '1', '0', '1', '0', '0', '6', '0', '1', '0.24', '0.2879', '0.81', '0', '3', '13', '16']\n",
      "Total number of records:  17379\n"
     ]
    }
   ],
   "source": [
    "path = \"noheader.csv\"\n",
    "raw_data = sc.textFile(path)\n",
    "num_data = raw_data.count()\n",
    "records = raw_data.map(lambda x: x.split(\",\"))\n",
    "first = records.first()\n",
    "print('First record: ', first)\n",
    "print('Total number of records: ', num_data)"
   ]
  },
  {
   "cell_type": "code",
   "execution_count": 4,
   "metadata": {},
   "outputs": [
    {
     "data": {
      "text/plain": [
       "PythonRDD[4] at RDD at PythonRDD.scala:49"
      ]
     },
     "execution_count": 4,
     "metadata": {},
     "output_type": "execute_result"
    }
   ],
   "source": [
    "# creating cache file to work on file faster\n",
    "records.cache()"
   ]
  },
  {
   "cell_type": "code",
   "execution_count": 5,
   "metadata": {},
   "outputs": [],
   "source": [
    "def get_mapping(rdd, idx):\n",
    "    return rdd.map(lambda fields: fields[idx]).distinct().zipWithIndex().collectAsMap()"
   ]
  },
  {
   "cell_type": "markdown",
   "metadata": {},
   "source": [
    "## Categorical features"
   ]
  },
  {
   "cell_type": "code",
   "execution_count": 6,
   "metadata": {},
   "outputs": [
    {
     "name": "stdout",
     "output_type": "stream",
     "text": [
      "Mapping of first categorical feature column: {'1': 0, '4': 1, '2': 2, '3': 3}\n"
     ]
    }
   ],
   "source": [
    "print (\"Mapping of first categorical feature column: %s\" % get_mapping(records, 2))"
   ]
  },
  {
   "cell_type": "code",
   "execution_count": 7,
   "metadata": {},
   "outputs": [],
   "source": [
    "mappings = [get_mapping(records, i) for i in range(2,10)]\n",
    "#mappings = [get_mapping(records, i) for i in range(2,3)]\n",
    "cat_len = sum((len(b) for b in mappings))\n",
    "num_len = len(records.first()[11:15])\n",
    "#num_len = len(records.first()[3:11])\n",
    "total_len = num_len + cat_len"
   ]
  },
  {
   "cell_type": "code",
   "execution_count": 8,
   "metadata": {},
   "outputs": [
    {
     "name": "stdout",
     "output_type": "stream",
     "text": [
      "Feature vector length for categorical features: 57\n",
      "Feature vector length for numerical features: 4\n",
      "Total feature vector length: 61\n"
     ]
    }
   ],
   "source": [
    "print (\"Feature vector length for categorical features: %d\" % cat_len) \n",
    "print (\"Feature vector length for numerical features: %d\" % num_len)\n",
    "print (\"Total feature vector length: %d\" % total_len)"
   ]
  },
  {
   "cell_type": "code",
   "execution_count": 9,
   "metadata": {},
   "outputs": [],
   "source": [
    "# In next step we will convert our extracted mappings tothe categorical features to binary-encoded features."
   ]
  },
  {
   "cell_type": "code",
   "execution_count": 10,
   "metadata": {},
   "outputs": [],
   "source": [
    "def extract_features(record):\n",
    "    cat_vec = np.zeros(cat_len)\n",
    "    i = 0\n",
    "    step = 0\n",
    "    for field in record[2:9]:\n",
    "    #for field in record[2:3]:\n",
    "        print('extract_features', i)\n",
    "        m = mappings[i]\n",
    "        idx = m[field]\n",
    "        cat_vec[idx + step] = 1\n",
    "        i = i + 1\n",
    "        step = step + len(m)\n",
    "    num_vec = np.array([float(field) for field in record[10:14]])\n",
    "    #num_vec = np.array([float(field) for field in record[3:11]])\n",
    "    return np.concatenate((cat_vec, num_vec))\n",
    "\n"
   ]
  },
  {
   "cell_type": "code",
   "execution_count": 11,
   "metadata": {},
   "outputs": [],
   "source": [
    "def extract_label(record):\n",
    "    return float(record[-1])"
   ]
  },
  {
   "cell_type": "code",
   "execution_count": 12,
   "metadata": {},
   "outputs": [],
   "source": [
    "data = records.map(lambda r: LabeledPoint(extract_label(r), extract_features(r)))"
   ]
  },
  {
   "cell_type": "code",
   "execution_count": 13,
   "metadata": {},
   "outputs": [],
   "source": [
    "# Getting the Feature Vector "
   ]
  },
  {
   "cell_type": "code",
   "execution_count": 14,
   "metadata": {},
   "outputs": [
    {
     "name": "stdout",
     "output_type": "stream",
     "text": [
      "Linear Tree Label: 16.0\n",
      "Linear Tree feature vector: [1.0,0.0,0.0,0.0,1.0,0.0,1.0,0.0,0.0,0.0,0.0,0.0,0.0,0.0,0.0,0.0,0.0,0.0,1.0,0.0,0.0,0.0,0.0,0.0,0.0,0.0,0.0,0.0,0.0,0.0,0.0,0.0,0.0,0.0,0.0,0.0,0.0,0.0,0.0,0.0,0.0,0.0,1.0,0.0,0.0,0.0,0.0,1.0,0.0,0.0,0.0,1.0,0.0,0.0,0.0,0.0,0.0,0.24,0.2879,0.81,0.0]\n",
      "Linear Tree feature vector length: 61\n"
     ]
    }
   ],
   "source": [
    "first_point = data.first()\n",
    "print(\"Linear Tree Label: \" + str(first_point.label))\n",
    "print(\"Linear Tree feature vector: \" + str(first_point.features))\n",
    "print(\"Linear Tree feature vector length: \" + str(len(first_point.features)))"
   ]
  },
  {
   "cell_type": "code",
   "execution_count": 15,
   "metadata": {},
   "outputs": [],
   "source": [
    "# Predictions on Linear Regression"
   ]
  },
  {
   "cell_type": "code",
   "execution_count": 16,
   "metadata": {},
   "outputs": [
    {
     "name": "stdout",
     "output_type": "stream",
     "text": [
      "Linear Model predictions: [(16.0, 117.89250386724845), (40.0, 116.22496123192113), (32.0, 116.02369145779235), (13.0, 115.67088016754433), (1.0, 115.56315650834316)]\n"
     ]
    }
   ],
   "source": [
    "linear_model = LinearRegressionWithSGD.train(data, iterations=10, step=0.1, intercept=False)\n",
    "true_vs_predicted = data.map(lambda p: (p.label, linear_model.predict(p.features)))\n",
    "print(\"Linear Model predictions: \" + str(true_vs_predicted.take(5)))"
   ]
  },
  {
   "cell_type": "code",
   "execution_count": 17,
   "metadata": {},
   "outputs": [],
   "source": [
    "# Functions for Squared Error, Absolute Error, Squared Log Error"
   ]
  },
  {
   "cell_type": "code",
   "execution_count": 18,
   "metadata": {},
   "outputs": [],
   "source": [
    "def squared_error(actual, pred):\n",
    "    return (pred - actual)**2\n",
    "def abs_error(actual, pred):\n",
    "    return np.abs(pred - actual)\n",
    "def squared_log_error(pred, actual):\n",
    "    return (np.log(pred + 1) - np.log(actual + 1))**2"
   ]
  },
  {
   "cell_type": "code",
   "execution_count": 19,
   "metadata": {},
   "outputs": [
    {
     "name": "stdout",
     "output_type": "stream",
     "text": [
      "Linear Model - Mean Squared Error: 30679.4539\n",
      "Linear Model - Mean Absolute Error: 130.6429\n",
      "Linear Model - Root Mean Squared Log Error: 1.4653\n"
     ]
    }
   ],
   "source": [
    "mse = true_vs_predicted.map(lambda p: squared_error(p[0], p[1])).mean()\n",
    "mae = true_vs_predicted.map(lambda p: abs_error(p[0], p[1])).mean()\n",
    "rmsle = np.sqrt(true_vs_predicted.map(lambda p: squared_log_error(p[0], p[1])).mean())\n",
    "print (\"Linear Model - Mean Squared Error: %2.4f\" % mse)\n",
    "print (\"Linear Model - Mean Absolute Error: %2.4f\" % mae)\n",
    "print (\"Linear Model - Root Mean Squared Log Error: %2.4f\" % rmsle)\n"
   ]
  },
  {
   "cell_type": "code",
   "execution_count": 20,
   "metadata": {},
   "outputs": [],
   "source": [
    "# Linear Regression Log"
   ]
  },
  {
   "cell_type": "code",
   "execution_count": 21,
   "metadata": {},
   "outputs": [],
   "source": [
    "data_log = data.map(lambda lp: LabeledPoint(np.log(lp.label), lp.features))"
   ]
  },
  {
   "cell_type": "code",
   "execution_count": 22,
   "metadata": {},
   "outputs": [],
   "source": [
    "model_log = LinearRegressionWithSGD.train(data_log, iterations=10, step=0.1) "
   ]
  },
  {
   "cell_type": "code",
   "execution_count": 23,
   "metadata": {},
   "outputs": [],
   "source": [
    "true_vs_predicted_log = data_log.map(lambda p: (np.exp(p.label), np.exp(model_log.predict(p.features)))) "
   ]
  },
  {
   "cell_type": "code",
   "execution_count": 24,
   "metadata": {},
   "outputs": [
    {
     "name": "stdout",
     "output_type": "stream",
     "text": [
      "Linear Regression Log - Mean Squared Error: 50685.5559\n",
      "Linear Regression Log - Mean Absolue Error: 155.2955\n",
      "Linear Regression Log - Root Mean Squared Log Error: 1.5411\n",
      "Non log-transformed predictions:\n",
      "[(16.0, 117.89250386724845), (40.0, 116.22496123192113), (32.0, 116.02369145779235)]\n",
      "Log-transformed predictions:\n",
      "[(15.999999999999998, 28.080291845456223), (40.0, 26.959480191001774), (32.0, 26.65472562945802)]\n"
     ]
    }
   ],
   "source": [
    "mse_log = true_vs_predicted_log.map(lambda p: squared_error(p[0], p[1])).mean()\n",
    "mae_log = true_vs_predicted_log.map(lambda p: abs_error(p[0], p[1])).mean()\n",
    "rmsle_log = np.sqrt(true_vs_predicted_log.map(lambda p: squared_log_error(p[0], p[1])).mean())\n",
    "print (\"Linear Regression Log - Mean Squared Error: %2.4f\" % mse_log)\n",
    "print (\"Linear Regression Log - Mean Absolue Error: %2.4f\" % mae_log)\n",
    "print (\"Linear Regression Log - Root Mean Squared Log Error: %2.4f\" % rmsle_log)\n",
    "print (\"Non log-transformed predictions:\\n\" + str(true_vs_predicted.take(3)))\n",
    "print (\"Log-transformed predictions:\\n\" + str(true_vs_predicted_log.take(3))) "
   ]
  },
  {
   "cell_type": "code",
   "execution_count": 25,
   "metadata": {},
   "outputs": [],
   "source": [
    "# Splitting data into Train and Test data"
   ]
  },
  {
   "cell_type": "code",
   "execution_count": 26,
   "metadata": {},
   "outputs": [],
   "source": [
    "data_with_idx = data.zipWithIndex().map(lambda p: (p[1],p[0])) \n",
    "test = data_with_idx.sample(False, 0.2, 42)\n",
    "train = data_with_idx.subtractByKey(test) "
   ]
  },
  {
   "cell_type": "code",
   "execution_count": 27,
   "metadata": {},
   "outputs": [
    {
     "name": "stdout",
     "output_type": "stream",
     "text": [
      "Training data size: 13869\n",
      "Test data size: 3510\n",
      "Total data size: 17379 \n",
      "Train + Test size : 17379\n"
     ]
    }
   ],
   "source": [
    "train_data = train.map(lambda p: p[1])\n",
    "test_data = test.map(lambda p : p[1])\n",
    "train_size = train_data.count()\n",
    "test_size = test_data.count()\n",
    "print (\"Training data size: %d\" % train_size)\n",
    "print (\"Test data size: %d\" % test_size)\n",
    "print (\"Total data size: %d \" % num_data)\n",
    "print (\"Train + Test size : %d\" % (train_size + test_size))"
   ]
  },
  {
   "cell_type": "code",
   "execution_count": 28,
   "metadata": {},
   "outputs": [],
   "source": [
    "def evaluate(train, test, iterations, step, regParam, regType, intercept):\n",
    "    model = LinearRegressionWithSGD.train(train, iterations, step, regParam=regParam, regType=regType, intercept=intercept)\n",
    "    tp = test.map(lambda p: (p.label, model.predict(p.features)))\n",
    "    rmsle = np.sqrt(tp.map(lambda p: squared_log_error(p[0],p[1])).mean())\n",
    "    return rmsle"
   ]
  },
  {
   "cell_type": "markdown",
   "metadata": {},
   "source": [
    "## Intercept"
   ]
  },
  {
   "cell_type": "code",
   "execution_count": 29,
   "metadata": {},
   "outputs": [
    {
     "name": "stdout",
     "output_type": "stream",
     "text": [
      "[False, True]\n",
      "[1.4055537710502843, 1.4363265851099394]\n"
     ]
    },
    {
     "data": {
      "text/plain": [
       "Text(0.5,1,'LiearRegressionWithSGD : Intercept')"
      ]
     },
     "execution_count": 29,
     "metadata": {},
     "output_type": "execute_result"
    },
    {
     "data": {
      "image/png": "[encoded data removed]",
      "text/plain": [
       "<matplotlib.figure.Figure at 0x1a64bd6eb70>"
      ]
     },
     "metadata": {},
     "output_type": "display_data"
    }
   ],
   "source": [
    "params = [False, True]\n",
    "metrics = [evaluate(train_data, test_data, 10, 0.1, 1.0, 'l2', param) for param in params]\n",
    "#metrics = [evaluate(train_data, test_data, 5, 0.1, 1.0, 'l2', param) for param in params]\n",
    "print (params)\n",
    "print (metrics)\n",
    "plot(params, metrics)\n",
    "fig = matplotlib.pyplot.gcf()\n",
    "plt.xlabel('Intercept Boolean')\n",
    "plt.ylabel('RMSLE')\n",
    "plt.title('LiearRegressionWithSGD : Intercept')"
   ]
  },
  {
   "cell_type": "markdown",
   "metadata": {},
   "source": [
    "## Iterations"
   ]
  },
  {
   "cell_type": "code",
   "execution_count": null,
   "metadata": {},
   "outputs": [],
   "source": []
  },
  {
   "cell_type": "code",
   "execution_count": 30,
   "metadata": {},
   "outputs": [
    {
     "name": "stdout",
     "output_type": "stream",
     "text": [
      "[1, 5, 10, 20, 50, 100]\n",
      "[2.8895751840351522, 2.0389907666484954, 1.7689106650446305, 1.5672874678333346, 1.4112887844157065, 1.3708564590941776]\n"
     ]
    },
    {
     "data": {
      "text/plain": [
       "Text(0.5,1,'LiearRegressionWithSGD : Iterations')"
      ]
     },
     "execution_count": 30,
     "metadata": {},
     "output_type": "execute_result"
    },
    {
     "data": {
      "image/png": "[encoded data removed]",
      "text/plain": [
       "<matplotlib.figure.Figure at 0x1a64bdf0f28>"
      ]
     },
     "metadata": {},
     "output_type": "display_data"
    }
   ],
   "source": [
    "params = [1, 5, 10, 20, 50, 100]\n",
    "metrics = [evaluate(train_data, test_data, param, 0.01, 0.0, 'l2', False) for param in params]\n",
    "print (params)\n",
    "print (metrics)\n",
    "plot(params, metrics)\n",
    "fig = matplotlib.pyplot.gcf()\n",
    "pyplot.xscale('log')\n",
    "plt.xlabel('Iterators')\n",
    "plt.ylabel('RMSLE')\n",
    "plt.title('LiearRegressionWithSGD : Iterations')"
   ]
  },
  {
   "cell_type": "markdown",
   "metadata": {},
   "source": [
    "## Step Size"
   ]
  },
  {
   "cell_type": "code",
   "execution_count": null,
   "metadata": {},
   "outputs": [],
   "source": []
  },
  {
   "cell_type": "code",
   "execution_count": 31,
   "metadata": {},
   "outputs": [
    {
     "name": "stdout",
     "output_type": "stream",
     "text": [
      "[0.01, 0.025, 0.05, 0.1]\n",
      "[1.7689106650446305, 1.4109119656546198, 1.37965777743331, 1.4580779096997896]\n"
     ]
    },
    {
     "data": {
      "text/plain": [
       "Text(0.5,1,'LiearRegressionWithSGD : Steps')"
      ]
     },
     "execution_count": 31,
     "metadata": {},
     "output_type": "execute_result"
    },
    {
     "data": {
      "image/png": "[encoded data removed]",
      "text/plain": [
       "<matplotlib.figure.Figure at 0x1a64c22da90>"
      ]
     },
     "metadata": {},
     "output_type": "display_data"
    }
   ],
   "source": [
    "params_step = [0.01, 0.025, 0.05, 0.1]\n",
    "metrics_step = [evaluate(train_data, test_data, 10, param, 0.0, 'l2', False) for param in params_step]\n",
    "#metrics_step = [evaluate(train_data, test_data, 5, param, 0.0, 'l2', False) for param in params_step]\n",
    "print(params_step)\n",
    "print(metrics_step)\n",
    "# Plotting\n",
    "plot(params_step, metrics_step)\n",
    "fig = matplotlib.pyplot.gcf()\n",
    "pyplot.xscale('log')\n",
    "plt.xlabel('Steps')\n",
    "plt.ylabel('RMSLE')\n",
    "plt.title('LiearRegressionWithSGD : Steps')"
   ]
  },
  {
   "cell_type": "markdown",
   "metadata": {},
   "source": [
    "## L1 Regularization "
   ]
  },
  {
   "cell_type": "code",
   "execution_count": 32,
   "metadata": {
    "scrolled": true
   },
   "outputs": [
    {
     "name": "stdout",
     "output_type": "stream",
     "text": [
      "[0.0, 0.01, 0.1, 1.0, 10.0, 100.0, 1000.0]\n",
      "[1.4580779096997896, 1.458043054492044, 1.4577312609446176, 1.4548207151817398, 1.4279738870738146, 1.7425548127469217, 4.775096900108976]\n"
     ]
    },
    {
     "data": {
      "text/plain": [
       "Text(0.5,1,'LiearRegressionWithSGD : L1 Regularization')"
      ]
     },
     "execution_count": 32,
     "metadata": {},
     "output_type": "execute_result"
    },
    {
     "data": {
      "image/png": "[encoded data removed]",
      "text/plain": [
       "<matplotlib.figure.Figure at 0x1a64d31c390>"
      ]
     },
     "metadata": {},
     "output_type": "display_data"
    }
   ],
   "source": [
    "params = [0.0, 0.01, 0.1, 1.0, 10.0, 100.0, 1000.0]\n",
    "metrics = [evaluate(train_data, test_data, 10, 0.1, param, 'l1', False) for param in params]\n",
    "#metrics = [evaluate(train_data, test_data, 5, 0.1, param, 'l1', False) for param in params]\n",
    "print (params)\n",
    "print (metrics)\n",
    "plot(params, metrics)\n",
    "fig = matplotlib.pyplot.gcf()\n",
    "pyplot.xscale('log')\n",
    "plt.xlabel('Value')\n",
    "plt.ylabel('RMSLE')\n",
    "plt.title('LiearRegressionWithSGD : L1 Regularization')\n"
   ]
  },
  {
   "cell_type": "markdown",
   "metadata": {},
   "source": [
    "## L2 Regularization"
   ]
  },
  {
   "cell_type": "code",
   "execution_count": 33,
   "metadata": {},
   "outputs": [
    {
     "name": "stdout",
     "output_type": "stream",
     "text": [
      "[0.0, 0.01, 0.1, 1.0, 5.0, 10.0, 20.0]\n",
      "[1.4580779096997896, 1.4574329945186553, 1.4517403325137033, 1.4055537710502843, 1.3809678070431126, 1.5198891882336292, 1.8224536571417238]\n"
     ]
    },
    {
     "data": {
      "text/plain": [
       "Text(0.5,1,'LiearRegressionWithSGD : L2 Regularization')"
      ]
     },
     "execution_count": 33,
     "metadata": {},
     "output_type": "execute_result"
    },
    {
     "data": {
      "image/png": "[encoded data removed]",
      "text/plain": [
       "<matplotlib.figure.Figure at 0x1a64d2f1da0>"
      ]
     },
     "metadata": {},
     "output_type": "display_data"
    }
   ],
   "source": [
    "\n",
    "params = [0.0, 0.01, 0.1, 1.0, 5.0, 10.0, 20.0]\n",
    "metrics = [evaluate(train_data, test_data, 10, 0.1, param, 'l2', False) for param in params]\n",
    "#metrics = [evaluate(train_data, test_data, 5, 0.1, param, 'l2', False) for param in params]\n",
    "print (params)\n",
    "print (metrics)\n",
    "plot(params, metrics)\n",
    "fig = matplotlib.pyplot.gcf()\n",
    "pyplot.xscale('log')\n",
    "plt.xlabel('Value')\n",
    "plt.ylabel('RMSLE')\n",
    "plt.title('LiearRegressionWithSGD : L2 Regularization')"
   ]
  },
  {
   "cell_type": "code",
   "execution_count": 34,
   "metadata": {},
   "outputs": [
    {
     "name": "stdout",
     "output_type": "stream",
     "text": [
      "L1 (1.0) number of zero weights: 5\n",
      "L1 (10.0) number of zeros weights: 33\n",
      "L1 (100.0) number of zeros weights: 58\n"
     ]
    }
   ],
   "source": [
    "model_l1 = LinearRegressionWithSGD.train(train_data, 10, 0.1, regParam=1.0, regType='l1', intercept=False)\n",
    "model_l1_10 = LinearRegressionWithSGD.train(train_data, 10, 0.1, regParam=10.0, regType='l1', intercept=False)\n",
    "model_l1_100 = LinearRegressionWithSGD.train(train_data, 10, 0.1, regParam=100.0, regType='l1', intercept=False)\n",
    "print (\"L1 (1.0) number of zero weights: \" + str(sum(model_l1.weights.array == 0)))\n",
    "print (\"L1 (10.0) number of zeros weights: \" + str(sum(model_l1_10.weights.array == 0)))\n",
    "print (\"L1 (100.0) number of zeros weights: \" + str(sum(model_l1_100.weights.array == 0)))"
   ]
  },
  {
   "cell_type": "code",
   "execution_count": 35,
   "metadata": {},
   "outputs": [
    {
     "name": "stdout",
     "output_type": "stream",
     "text": [
      "[False, True]\n",
      "[1.4055537710502843, 1.4363265851099394]\n"
     ]
    },
    {
     "data": {
      "image/png": "[encoded data removed]",
      "text/plain": [
       "<matplotlib.figure.Figure at 0x1a64d432cf8>"
      ]
     },
     "metadata": {},
     "output_type": "display_data"
    }
   ],
   "source": [
    "params = [False, True]\n",
    "metrics = [evaluate(train_data, test_data, 10, 0.1, 1.0, 'l2', param) for param in params]\n",
    "#metrics = [evaluate(train_data, test_data, 5, 0.1, 1.0, 'l2', param) for param in params]\n",
    "print (params)\n",
    "print (metrics)\n",
    "bar(params, metrics, color='lightblue')\n",
    "fig = matplotlib.pyplot.gcf()"
   ]
  },
  {
   "cell_type": "code",
   "execution_count": null,
   "metadata": {},
   "outputs": [],
   "source": []
  }
 ],
 "metadata": {
  "kernelspec": {
   "display_name": "Python [conda env:Anaconda3]",
   "language": "python",
   "name": "conda-env-Anaconda3-py"
  },
  "language_info": {
   "codemirror_mode": {
    "name": "ipython",
    "version": 3
   },
   "file_extension": ".py",
   "mimetype": "text/x-python",
   "name": "python",
   "nbconvert_exporter": "python",
   "pygments_lexer": "ipython3",
   "version": "3.6.4"
  }
 },
 "nbformat": 4,
 "nbformat_minor": 2
}
