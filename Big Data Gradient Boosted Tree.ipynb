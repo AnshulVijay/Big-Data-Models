{
 "cells": [
  {
   "cell_type": "markdown",
   "metadata": {},
   "source": [
    "# Gradient Boosted Tree"
   ]
  },
  {
   "cell_type": "code",
   "execution_count": 1,
   "metadata": {},
   "outputs": [
    {
     "name": "stdout",
     "output_type": "stream",
     "text": [
      "Populating the interactive namespace from numpy and matplotlib\n"
     ]
    }
   ],
   "source": [
    "%pylab inline\n",
    "%matplotlib inline\n",
    "from matplotlib import pyplot as plt\n",
    "\n",
    "from pyspark.mllib.regression import LabeledPoint\n",
    "import numpy as np\n",
    "from pyspark import *\n",
    "from pyspark.mllib.tree import GradientBoostedTrees, GradientBoostedTreesModel\n",
    "from collections import defaultdict"
   ]
  },
  {
   "cell_type": "code",
   "execution_count": 2,
   "metadata": {},
   "outputs": [],
   "source": [
    "sc = SparkContext()"
   ]
  },
  {
   "cell_type": "code",
   "execution_count": 3,
   "metadata": {},
   "outputs": [
    {
     "name": "stdout",
     "output_type": "stream",
     "text": [
      "First record:  ['1', '2011-01-01', '1', '0', '1', '0', '0', '6', '0', '1', '0.24', '0.2879', '0.81', '0', '3', '13', '16']\n",
      "Total number of records:  17379\n"
     ]
    }
   ],
   "source": [
    "path = \"noheader.csv\"\n",
    "raw_data = sc.textFile(path)\n",
    "num_data = raw_data.count()\n",
    "records = raw_data.map(lambda x: x.split(\",\"))\n",
    "first = records.first()\n",
    "print('First record: ', first)\n",
    "print('Total number of records: ', num_data)"
   ]
  },
  {
   "cell_type": "code",
   "execution_count": 4,
   "metadata": {},
   "outputs": [
    {
     "data": {
      "text/plain": [
       "PythonRDD[4] at RDD at PythonRDD.scala:49"
      ]
     },
     "execution_count": 4,
     "metadata": {},
     "output_type": "execute_result"
    }
   ],
   "source": [
    "records.cache()"
   ]
  },
  {
   "cell_type": "code",
   "execution_count": 5,
   "metadata": {},
   "outputs": [],
   "source": [
    "def extract_features_dt(record):\n",
    "    return np.array(record[2:14])\n",
    "    #return np.array(record[1:8])"
   ]
  },
  {
   "cell_type": "code",
   "execution_count": 6,
   "metadata": {},
   "outputs": [],
   "source": [
    "def extract_label(record):\n",
    "    return float(record[-1])"
   ]
  },
  {
   "cell_type": "code",
   "execution_count": 7,
   "metadata": {},
   "outputs": [],
   "source": [
    "data_dt = records.map(lambda r: LabeledPoint(extract_label(r), extract_features_dt(r)))"
   ]
  },
  {
   "cell_type": "code",
   "execution_count": 8,
   "metadata": {},
   "outputs": [],
   "source": [
    "(trainingData_dt, testData_dt) = data_dt.randomSplit([0.7, 0.3])"
   ]
  },
  {
   "cell_type": "code",
   "execution_count": 9,
   "metadata": {},
   "outputs": [],
   "source": [
    "data_with_idx_dt = data_dt.zipWithIndex().map(lambda p: (p[1],p[0]))\n",
    "test_dt = data_with_idx_dt.sample(False, 0.3, 42)\n",
    "train_dt = data_with_idx_dt.subtractByKey(test_dt)\n",
    "train_data_dt = train_dt.map(lambda p: p[1])\n",
    "test_data_dt = test_dt.map(lambda p: p[1])"
   ]
  },
  {
   "cell_type": "code",
   "execution_count": 10,
   "metadata": {
    "scrolled": true
   },
   "outputs": [
    {
     "name": "stdout",
     "output_type": "stream",
     "text": [
      "Gradient Boosted Tree prediction:[(16.0, 107.82082560757465), (40.0, 107.82082560757465), (13.0, 107.82082560757465), (1.0, 107.82082560757465), (3.0, 107.82082560757465)]\n"
     ]
    }
   ],
   "source": [
    "model_GBT = GradientBoostedTrees.trainRegressor(train_data_dt,categoricalFeaturesInfo={},numIterations=2,learningRate=0.1, maxDepth=1, maxBins=2)\n",
    "predictions_GBT = model_GBT.predict(test_data_dt.map(lambda x: x.features))\n",
    "true_vs_predicted_dt = test_data_dt.map(lambda lp: lp.label).zip(predictions_GBT)\n",
    "print(\"Gradient Boosted Tree prediction:\" +str(true_vs_predicted_dt.take(5)))"
   ]
  },
  {
   "cell_type": "code",
   "execution_count": 11,
   "metadata": {},
   "outputs": [],
   "source": [
    "def squared_error(actual, pred):\n",
    "    return (pred - actual)**2"
   ]
  },
  {
   "cell_type": "code",
   "execution_count": 12,
   "metadata": {},
   "outputs": [],
   "source": [
    "def abs_error(actual, pred):\n",
    "    return np.abs(pred - actual)"
   ]
  },
  {
   "cell_type": "code",
   "execution_count": 13,
   "metadata": {},
   "outputs": [],
   "source": [
    "def squared_log_error(pred, actual):\n",
    "    return (np.log(pred + 1) - np.log(actual + 1))**2"
   ]
  },
  {
   "cell_type": "code",
   "execution_count": 14,
   "metadata": {},
   "outputs": [
    {
     "name": "stdout",
     "output_type": "stream",
     "text": [
      "Gradient Boosted Tree - Mean Squared Error: 26316.1669\n",
      "Gradient Boosted Tree - Mean Absolute Error: 123.7684\n",
      "Gradient Boosted Tree - Root Mean Squared Log Error: 1.3665\n"
     ]
    }
   ],
   "source": [
    "mse = true_vs_predicted_dt.map(lambda p: squared_error(p[0], p[1])).mean()\n",
    "mae = true_vs_predicted_dt.map(lambda p: abs_error(p[0], p[1])).mean()\n",
    "rmsle = np.sqrt(true_vs_predicted_dt.map(lambda p: squared_log_error(p[0], p[1])).mean())\n",
    "print (\"Gradient Boosted Tree - Mean Squared Error: %2.4f\" % mse)\n",
    "print (\"Gradient Boosted Tree - Mean Absolute Error: %2.4f\" % mae)\n",
    "print (\"Gradient Boosted Tree - Root Mean Squared Log Error: %2.4f\" % rmsle)\n"
   ]
  },
  {
   "cell_type": "code",
   "execution_count": 15,
   "metadata": {},
   "outputs": [],
   "source": [
    "def evaluate_gbt(trainData, testData, numIterationsValue, maxDepthValue, maxBinsValue):\n",
    "    model_GBT = GradientBoostedTrees.trainRegressor(trainData, categoricalFeaturesInfo={}, numIterations=numIterationsValue,maxDepth=maxDepthValue, maxBins=maxBinsValue)\n",
    "    predictions_GBT = model_GBT.predict(testData.map(lambda x: x.features))\n",
    "    labelsAndPredictions_GBT = testData.map(lambda lp: lp.label).zip(predictions_GBT)\n",
    "    rmsleGBT = np.sqrt(labelsAndPredictions_GBT.map(lambda lp: squared_log_error(lp[0], lp[1])).mean())\n",
    "    return rmsleGBT"
   ]
  },
  {
   "cell_type": "markdown",
   "metadata": {},
   "source": [
    "## Gradient boost tree Iterations"
   ]
  },
  {
   "cell_type": "code",
   "execution_count": 16,
   "metadata": {},
   "outputs": [
    {
     "name": "stdout",
     "output_type": "stream",
     "text": [
      "[2, 3, 4]\n",
      "[0.7985047681926196, 0.7809687600794497, 0.7662460219236575]\n"
     ]
    },
    {
     "data": {
      "text/plain": [
       "Text(0.5,1,'GradientBoosted Trees - Iterators')"
      ]
     },
     "execution_count": 16,
     "metadata": {},
     "output_type": "execute_result"
    },
    {
     "data": {
      "image/png": "[encoded data removed]",
      "text/plain": [
       "<matplotlib.figure.Figure at 0x2258c3ec588>"
      ]
     },
     "metadata": {},
     "output_type": "display_data"
    }
   ],
   "source": [
    "numInterationsParams = [2, 3, 4]\n",
    "\n",
    "metrics_gbt_iterations = [evaluate_gbt(train_data_dt, test_data_dt, param, 3, 32) for param in numInterationsParams]\n",
    "print(numInterationsParams)\n",
    "print(metrics_gbt_iterations)\n",
    "\n",
    "# Plotting\n",
    "plot(numInterationsParams, metrics_gbt_iterations)\n",
    "plt.xlabel('Iterations log scale')\n",
    "plt.ylabel('RMSLE')\n",
    "plt.title('GradientBoosted Trees - Iterators')"
   ]
  },
  {
   "cell_type": "markdown",
   "metadata": {},
   "source": [
    "## Gradient boost tree Max Bins"
   ]
  },
  {
   "cell_type": "code",
   "execution_count": 17,
   "metadata": {},
   "outputs": [
    {
     "name": "stdout",
     "output_type": "stream",
     "text": [
      "[4, 5, 6]\n",
      "[0.8629178813953541, 0.9543362783095837, 0.9240698705038497]\n"
     ]
    },
    {
     "data": {
      "text/plain": [
       "Text(0.5,1,'GradientBoosted Trees - Max Bins')"
      ]
     },
     "execution_count": 17,
     "metadata": {},
     "output_type": "execute_result"
    },
    {
     "data": {
      "image/png": "[encoded data removed]",
      "text/plain": [
       "<matplotlib.figure.Figure at 0x2258c779128>"
      ]
     },
     "metadata": {},
     "output_type": "display_data"
    }
   ],
   "source": [
    "maxBinsParams = [4,5,6]\n",
    "\n",
    "metrics_gbt_maxBins = [evaluate_gbt(train_data_dt, test_data_dt, 2, 3, param) for param in maxBinsParams]\n",
    "print(maxBinsParams)\n",
    "print(metrics_gbt_maxBins)\n",
    "\n",
    "# Plotting : Decision Tree Max Depth\n",
    "plot(maxBinsParams, metrics_gbt_maxBins)\n",
    "plt.xlabel('Iterations log scale')\n",
    "plt.ylabel('RMSLE')\n",
    "plt.title('GradientBoosted Trees - Max Bins')"
   ]
  },
  {
   "cell_type": "markdown",
   "metadata": {},
   "source": [
    "## Gradient boost tree Max Depth"
   ]
  },
  {
   "cell_type": "code",
   "execution_count": 18,
   "metadata": {},
   "outputs": [
    {
     "name": "stdout",
     "output_type": "stream",
     "text": [
      "[4, 5, 6]\n",
      "[0.6790863392427551, 0.6142140344636425, 0.5181946221174568]\n"
     ]
    },
    {
     "data": {
      "text/plain": [
       "Text(0.5,1,'GradientBoosted Trees - Max Depth')"
      ]
     },
     "execution_count": 18,
     "metadata": {},
     "output_type": "execute_result"
    },
    {
     "data": {
      "image/png": "[encoded data removed]",
      "text/plain": [
       "<matplotlib.figure.Figure at 0x2258c7be0f0>"
      ]
     },
     "metadata": {},
     "output_type": "display_data"
    }
   ],
   "source": [
    "maxDepthParams = [4, 5, 6]\n",
    "\n",
    "metrics_gbt_maxDepth = [evaluate_gbt(train_data_dt, test_data_dt, 3, param, 32) for param in maxDepthParams]\n",
    "print(maxDepthParams)\n",
    "print(metrics_gbt_maxDepth)\n",
    "\n",
    "# Plotting\n",
    "plot(maxDepthParams, metrics_gbt_maxDepth)\n",
    "plt.xlabel('Iterations')\n",
    "plt.ylabel('RMSLE')\n",
    "plt.title('GradientBoosted Trees - Max Depth')"
   ]
  },
  {
   "cell_type": "code",
   "execution_count": null,
   "metadata": {},
   "outputs": [],
   "source": []
  }
 ],
 "metadata": {
  "kernelspec": {
   "display_name": "Python [conda env:Anaconda3]",
   "language": "python",
   "name": "conda-env-Anaconda3-py"
  },
  "language_info": {
   "codemirror_mode": {
    "name": "ipython",
    "version": 3
   },
   "file_extension": ".py",
   "mimetype": "text/x-python",
   "name": "python",
   "nbconvert_exporter": "python",
   "pygments_lexer": "ipython3",
   "version": "3.6.4"
  }
 },
 "nbformat": 4,
 "nbformat_minor": 2
}
